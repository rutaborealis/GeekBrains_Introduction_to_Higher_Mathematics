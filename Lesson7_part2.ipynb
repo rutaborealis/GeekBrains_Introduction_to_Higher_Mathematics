{
 "cells": [
  {
   "cell_type": "code",
   "execution_count": 47,
   "id": "8c199770-3d41-4fda-b787-5308097f55e7",
   "metadata": {},
   "outputs": [
    {
     "data": {
      "text/plain": [
       "array([-9.2       ,  0.9       ,  6.46666667])"
      ]
     },
     "execution_count": 47,
     "metadata": {},
     "output_type": "execute_result"
    }
   ],
   "source": [
    "# Lesson 7\n",
    "# Task 1\n",
    "import numpy\n",
    "\n",
    "A = numpy.array([[1, 2, 3], [4, 0, 6], [7, 8, 9]])\n",
    "B = numpy.array([12, 2, 1])\n",
    "numpy.linalg.solve(A, B)"
   ]
  },
  {
   "cell_type": "code",
   "execution_count": 45,
   "id": "f37ad9a6-effc-48e6-9ff2-f311e976b3a2",
   "metadata": {},
   "outputs": [
    {
     "data": {
      "text/plain": [
       "array([ 1.13919353, -0.90498444, -0.9009803 ])"
      ]
     },
     "execution_count": 45,
     "metadata": {},
     "output_type": "execute_result"
    }
   ],
   "source": [
    "# Lesson 7\n",
    "# Task 2\n",
    "import numpy\n",
    "\n",
    "A = numpy.array([[1, 2, -1], [3, -4, 0], [8, -5, 2], [2, 0, -5], [11, 4, -7]], float)\n",
    "B = numpy.array([1, 7, 12, 7, 15])  \n",
    "numpy.linalg.lstsq(A, B, rcond=None)[0]"
   ]
  },
  {
   "cell_type": "code",
   "execution_count": 43,
   "id": "26243f18-10b4-464d-8ec3-e2abacb538e8",
   "metadata": {},
   "outputs": [
    {
     "name": "stdout",
     "output_type": "stream",
     "text": [
      "[[ 1  2  3 12]\n",
      " [ 4  5  6  2]\n",
      " [ 7  8  9  1]]\n"
     ]
    },
    {
     "data": {
      "text/plain": [
       "(2, 3)"
      ]
     },
     "execution_count": 43,
     "metadata": {},
     "output_type": "execute_result"
    }
   ],
   "source": [
    "# Lesson 7\n",
    "# Task 3.1\n",
    "import numpy\n",
    "\n",
    "A = numpy.array([[1, 2, 3], [4, 5, 6], [7, 8, 9]])\n",
    "B = numpy.array([[12, 2, 1]])\n",
    "C = numpy.concatenate((A,B.T), axis=1)\n",
    "print (C)\n",
    "numpy.linalg.matrix_rank(A, 0.0001), numpy.linalg.matrix_rank(C, 0.0001)\n",
    "\n",
    "# ранг матрицы А не равен рангу матрицы С, следовательно в таком виде система не имеет решений"
   ]
  },
  {
   "cell_type": "code",
   "execution_count": 54,
   "id": "a4f486f5-75dc-4881-9425-8ef6848f65eb",
   "metadata": {},
   "outputs": [
    {
     "data": {
      "text/plain": [
       "array([-2.00000000e+00,  1.45716772e-16,  1.66666667e+00])"
      ]
     },
     "execution_count": 54,
     "metadata": {},
     "output_type": "execute_result"
    }
   ],
   "source": [
    "# Lesson 7\n",
    "# Task 3.2\n",
    "import numpy\n",
    "\n",
    "A = numpy.array([[1, 2, 3], [4, 0, 6], [7, 8, 9]])\n",
    "B = numpy.array([3, 2, 1])\n",
    " \n",
    "numpy.linalg.solve(A, B)\n",
    "\n",
    "# ранг матрицы А равен рангу матрицы С (3), следовательно в таком виде система имеет решения"
   ]
  },
  {
   "cell_type": "code",
   "execution_count": 57,
   "id": "415e585d-eaa0-41c3-b1d9-c73e9fbd82c9",
   "metadata": {},
   "outputs": [
    {
     "name": "stdout",
     "output_type": "stream",
     "text": [
      "[[0. 1. 0.]\n",
      " [0. 0. 1.]\n",
      " [1. 0. 0.]]\n",
      "[[ 1.    0.    0.  ]\n",
      " [ 0.25  1.    0.  ]\n",
      " [ 0.5  -0.4   1.  ]]\n",
      "[[  4.    28.    73.  ]\n",
      " [  0.    -5.   -15.25]\n",
      " [  0.     0.   -21.6 ]]\n",
      "[[0. 0. 0.]\n",
      " [0. 0. 0.]\n",
      " [0. 0. 0.]]\n"
     ]
    }
   ],
   "source": [
    "# Lesson 7\n",
    "# Task 4\n",
    "import numpy\n",
    "import scipy\n",
    "import scipy.linalg\n",
    "\n",
    "A = numpy.array([ [1, 2, 3], [2, 16, 21], [4, 28, 73]])\n",
    "P, L, U = scipy.linalg.lu(A)\n",
    "\n",
    "print(P)\n",
    "print(L)\n",
    "print(U)\n",
    "\n",
    "print(numpy.dot(P.transpose(), A) - numpy.dot(L, U))"
   ]
  },
  {
   "cell_type": "code",
   "execution_count": 77,
   "id": "c6a88998-6221-4428-b4a5-7587725d92ce",
   "metadata": {},
   "outputs": [
    {
     "data": {
      "text/plain": [
       "(array([ 1.38191882, -0.18081181,  0.0202952 ]),\n",
       " array([], dtype=float64),\n",
       " 2,\n",
       " array([9.65316119, 2.41173777]))"
      ]
     },
     "execution_count": 78,
     "metadata": {},
     "output_type": "execute_result"
    }
   ],
   "source": [
    "# Lesson 7\n",
    "# Task 5\n",
    "from mpl_toolkits.mplot3d import Axes3D\n",
    "import numpy\n",
    "import matplotlib.pyplot as plot\n",
    "\n",
    "# найдем нормальное псевдорешение\n",
    "A = numpy.array([[1,2,-1],[8,-5,2]])\n",
    "B = numpy.array([1,12])\n",
    "numpy.linalg.lstsq(A, B, rcond=None)\n",
    "# (array([ 1.38191882, -0.18081181,  0.0202952 ]),\n",
    "#  array([], dtype=float64),\n",
    "#  2,\n",
    "#  array([9.65316119, 2.41173777]))\n",
    "\n",
    "# def Q(x, y, z):\n",
    "#     return (x ** 2 + y ** 2 + z ** 2)\n",
    "\n",
    "# создаём полотно для рисунка\n",
    "fig = plot.figure(figsize = (10, 10))\n",
    "\n",
    "# создаём рисунок пространства с поверхностью\n",
    "ax = fig.add_subplot(1, 1, 1, projection='3d')\n",
    "\n",
    "X = numpy.arange(-50, 50, 1)\n",
    "Y = numpy.arange(-50, 50, 1)\n",
    "X, Y = numpy.meshgrid(X, Y)\n",
    "\n",
    "ax.plot_surface(X,Y,Z,color='cyan')\n",
    "ax.plot_surface(X,Y,Z2,color='green')\n",
    "\n",
    "# какие значения передаются в Q?\n",
    "# ax.plot_surface(X, Y, Q(?), cmap=plot.cm.plasma)"
   ]
  },
  {
   "cell_type": "code",
   "execution_count": 79,
   "id": "303fd6e9-3b36-46b5-9470-d0a2913a543a",
   "metadata": {},
   "outputs": [
    {
     "name": "stdout",
     "output_type": "stream",
     "text": [
      "[[1 2 3]\n",
      " [4 5 6]\n",
      " [7 8 9]]\n",
      "[[-0.12309149  0.90453403  0.40824829]\n",
      " [-0.49236596  0.30151134 -0.81649658]\n",
      " [-0.86164044 -0.30151134  0.40824829]]\n",
      "[[-8.12403840e+00 -9.60113630e+00 -1.10782342e+01]\n",
      " [ 0.00000000e+00  9.04534034e-01  1.80906807e+00]\n",
      " [ 0.00000000e+00  0.00000000e+00 -8.88178420e-16]]\n"
     ]
    }
   ],
   "source": [
    "# Lesson 7\n",
    "# Task 6\n",
    "import numpy\n",
    "\n",
    "A = numpy.array([ [1, 2, 3], [4, 5, 6], [7, 8, 9] ])\n",
    "B = numpy.array([2, 5, 11])\n",
    "Q, R = numpy.linalg.qr(A)\n",
    " \n",
    "print(A)\n",
    "print(Q)\n",
    "print(R)"
   ]
  },
  {
   "cell_type": "code",
   "execution_count": null,
   "id": "98cd7e20-5bc2-4164-9c79-cc6dde9d5f1e",
   "metadata": {},
   "outputs": [],
   "source": []
  }
 ],
 "metadata": {
  "kernelspec": {
   "display_name": "Python 3 (ipykernel)",
   "language": "python",
   "name": "python3"
  },
  "language_info": {
   "codemirror_mode": {
    "name": "ipython",
    "version": 3
   },
   "file_extension": ".py",
   "mimetype": "text/x-python",
   "name": "python",
   "nbconvert_exporter": "python",
   "pygments_lexer": "ipython3",
   "version": "3.10.0"
  }
 },
 "nbformat": 4,
 "nbformat_minor": 5
}
