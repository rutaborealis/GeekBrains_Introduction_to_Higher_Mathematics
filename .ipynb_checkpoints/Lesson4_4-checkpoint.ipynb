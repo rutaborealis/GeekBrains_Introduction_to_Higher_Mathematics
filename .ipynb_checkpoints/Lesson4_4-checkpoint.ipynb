{
 "cells": [
  {
   "cell_type": "code",
   "execution_count": 7,
   "id": "cff27898-d147-463a-92af-d79633614c59",
   "metadata": {},
   "outputs": [],
   "source": [
    "# Lesson 4\n",
    "# Task 4.1\n",
    "import numpy\n",
    "import matplotlib.pyplot as plot\n",
    "from scipy.optimize import fsolve\n"
   ]
  },
  {
   "cell_type": "code",
   "execution_count": null,
   "id": "85274b76-7809-47d7-a837-8d5db8035664",
   "metadata": {},
   "outputs": [],
   "source": []
  }
 ],
 "metadata": {
  "kernelspec": {
   "display_name": "Python 3 (ipykernel)",
   "language": "python",
   "name": "python3"
  },
  "language_info": {
   "codemirror_mode": {
    "name": "ipython",
    "version": 3
   },
   "file_extension": ".py",
   "mimetype": "text/x-python",
   "name": "python",
   "nbconvert_exporter": "python",
   "pygments_lexer": "ipython3",
   "version": "3.10.0"
  }
 },
 "nbformat": 4,
 "nbformat_minor": 5
}
