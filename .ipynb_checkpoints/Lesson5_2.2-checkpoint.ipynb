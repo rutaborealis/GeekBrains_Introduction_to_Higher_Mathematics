{
 "cells": [
  {
   "cell_type": "code",
   "execution_count": 9,
   "id": "4fc35a9c-5636-48ef-8ef7-fe0b773e7e62",
   "metadata": {},
   "outputs": [
    {
     "data": {
      "text/plain": [
       "Text(0.5, 1.0, 'Histogram')"
      ]
     },
     "execution_count": 9,
     "metadata": {},
     "output_type": "execute_result"
    },
    {
     "data": {
      "image/png": "[encoded data removed]",
      "text/plain": [
       "<Figure size 432x288 with 1 Axes>"
      ]
     },
     "metadata": {
      "needs_background": "light"
     },
     "output_type": "display_data"
    }
   ],
   "source": [
    "# Lesson 5\n",
    "# Task 2.2\n",
    "import numpy\n",
    "import matplotlib.pyplot as plot\n",
    "\n",
    "n = 1000\n",
    "sum = []\n",
    "for i in range (n):\n",
    "    list = numpy.random.rand(10)\n",
    "    sum.append(list.sum())\n",
    "\n",
    "num_bins = 10\n",
    "n, bins, patches = plot.hist(sum, num_bins)\n",
    "\n",
    "plot.xlabel('Sum')\n",
    "plot.ylabel('Probability')\n",
    "plot.title('Histogram')"
   ]
  },
  {
   "cell_type": "code",
   "execution_count": null,
   "id": "678c9bdb-0bf0-4f02-9daa-f10eccb68981",
   "metadata": {},
   "outputs": [],
   "source": []
  }
 ],
 "metadata": {
  "kernelspec": {
   "display_name": "Python 3 (ipykernel)",
   "language": "python",
   "name": "python3"
  },
  "language_info": {
   "codemirror_mode": {
    "name": "ipython",
    "version": 3
   },
   "file_extension": ".py",
   "mimetype": "text/x-python",
   "name": "python",
   "nbconvert_exporter": "python",
   "pygments_lexer": "ipython3",
   "version": "3.10.0"
  }
 },
 "nbformat": 4,
 "nbformat_minor": 5
}
