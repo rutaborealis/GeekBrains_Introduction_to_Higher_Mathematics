{
 "cells": [
  {
   "cell_type": "code",
   "execution_count": 3,
   "id": "2dd30327-ca36-4cc8-85b2-7c5d723a66f7",
   "metadata": {},
   "outputs": [
    {
     "data": {
      "text/plain": [
       "Text(0, 0.5, 'y')"
      ]
     },
     "execution_count": 3,
     "metadata": {},
     "output_type": "execute_result"
    },
    {
     "data": {
      "image/png": "[encoded data removed]",
      "text/plain": [
       "<Figure size 720x720 with 1 Axes>"
      ]
     },
     "metadata": {
      "needs_background": "light"
     },
     "output_type": "display_data"
    }
   ],
   "source": [
    "# Lesson 3\n",
    "# Task 2\n",
    "import numpy\n",
    "import matplotlib.pyplot as plot\n",
    "\n",
    "fig = plot.figure(figsize = (10, 10))\n",
    "\n",
    "x = numpy.linspace(-15, 15, 50)\n",
    "\n",
    "y = 3 * x + 1\n",
    "y2 = (-1 / 3) * x + 1\n",
    "\n",
    "plot.axes().set_aspect('equal')\n",
    "\n",
    "plot.plot(x, y, color='blue')\n",
    "plot.plot(x, y2, color='red')\n",
    "\n",
    "plot.xlabel('x')\n",
    "plot.ylabel('y')"
   ]
  },
  {
   "cell_type": "code",
   "execution_count": null,
   "id": "c5ee8b02-b056-4065-8e2c-638f95d2c2c2",
   "metadata": {},
   "outputs": [],
   "source": []
  }
 ],
 "metadata": {
  "kernelspec": {
   "display_name": "Python 3 (ipykernel)",
   "language": "python",
   "name": "python3"
  },
  "language_info": {
   "codemirror_mode": {
    "name": "ipython",
    "version": 3
   },
   "file_extension": ".py",
   "mimetype": "text/x-python",
   "name": "python",
   "nbconvert_exporter": "python",
   "pygments_lexer": "ipython3",
   "version": "3.10.0"
  }
 },
 "nbformat": 4,
 "nbformat_minor": 5
}
