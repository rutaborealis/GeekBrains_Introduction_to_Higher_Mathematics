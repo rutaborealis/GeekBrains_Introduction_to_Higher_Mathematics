{
 "cells": [
  {
   "cell_type": "code",
   "execution_count": 2,
   "id": "4b0def74-69da-4c8e-ad99-804618705a31",
   "metadata": {},
   "outputs": [
    {
     "name": "stdout",
     "output_type": "stream",
     "text": [
      "[[5. 0. 0. 0. 0.]\n",
      " [0. 5. 0. 0. 0.]\n",
      " [0. 0. 5. 0. 0.]\n",
      " [0. 0. 0. 5. 0.]\n",
      " [0. 0. 0. 0. 5.]]\n",
      "[[0.2 0.  0.  0.  0. ]\n",
      " [0.  0.2 0.  0.  0. ]\n",
      " [0.  0.  0.2 0.  0. ]\n",
      " [0.  0.  0.  0.2 0. ]\n",
      " [0.  0.  0.  0.  0.2]]\n"
     ]
    }
   ],
   "source": [
    "# Lesson 7\n",
    "# Task 1\n",
    "import numpy\n",
    "\n",
    "A = 5 * numpy.identity(5)\n",
    "print(A)\n",
    "\n",
    "P = numpy.linalg.pinv(A)\n",
    "print(P)"
   ]
  },
  {
   "cell_type": "code",
   "execution_count": 3,
   "id": "a377954a-0e0c-4e35-9c66-e3044a493ab1",
   "metadata": {},
   "outputs": [
    {
     "name": "stdout",
     "output_type": "stream",
     "text": [
      "[[1. 2. 3.]\n",
      " [4. 0. 6.]\n",
      " [7. 8. 9.]]\n"
     ]
    },
    {
     "data": {
      "text/plain": [
       "59.999999999999986"
      ]
     },
     "execution_count": 3,
     "metadata": {},
     "output_type": "execute_result"
    }
   ],
   "source": [
    "# Lesson 7\n",
    "# Task 2\n",
    "import numpy\n",
    "\n",
    "a = numpy.array([[1, 2, 3], [4, 0, 6], [7, 8, 9]], float)\n",
    "print(a)\n",
    "numpy.linalg.det(a)"
   ]
  },
  {
   "cell_type": "code",
   "execution_count": 6,
   "id": "b3d02904-5fa6-4df6-ba2f-aad7e5d5b161",
   "metadata": {},
   "outputs": [
    {
     "data": {
      "text/plain": [
       "3"
      ]
     },
     "execution_count": 6,
     "metadata": {},
     "output_type": "execute_result"
    }
   ],
   "source": [
    "# Lesson 7\n",
    "# Task 3\n",
    "import numpy\n",
    "\n",
    "a = numpy.array([[1, 2, 3], [4, 0, 6], [7, 8, 9]], float)\n",
    "numpy.linalg.inv(a)\n",
    "\n",
    "numpy.linalg.matrix_rank(a, 0.0001)"
   ]
  },
  {
   "cell_type": "code",
   "execution_count": 7,
   "id": "c5a59e39-bb30-47d7-8e37-e36895aa17de",
   "metadata": {},
   "outputs": [
    {
     "name": "stdout",
     "output_type": "stream",
     "text": [
      "[[1. 1. 1. 1.]\n",
      " [1. 1. 1. 1.]\n",
      " [1. 1. 1. 1.]]\n"
     ]
    },
    {
     "data": {
      "text/plain": [
       "1"
      ]
     },
     "execution_count": 7,
     "metadata": {},
     "output_type": "execute_result"
    }
   ],
   "source": [
    "# Lesson 7\n",
    "# Task 4\n",
    "import numpy\n",
    "\n",
    "c = numpy.array([[1, 1, 1, 1], [1, 1, 1, 1], [1, 1, 1, 1]], float)\n",
    "print(c)\n",
    "numpy.linalg.matrix_rank(c, 0.0001)"
   ]
  },
  {
   "cell_type": "code",
   "execution_count": 8,
   "id": "f30700ba-9c23-469d-9249-82e4fb733652",
   "metadata": {},
   "outputs": [
    {
     "data": {
      "text/plain": [
       "42"
      ]
     },
     "execution_count": 8,
     "metadata": {},
     "output_type": "execute_result"
    }
   ],
   "source": [
    "# Lesson 7\n",
    "# Task 5\n",
    "import numpy\n",
    "\n",
    "f = numpy.array([1, 5])\n",
    "d = numpy.array([2, 8])\n",
    "numpy.dot(f, d)"
   ]
  },
  {
   "cell_type": "code",
   "execution_count": 9,
   "id": "b05841e4-32a5-4629-b802-8663ea0f32c4",
   "metadata": {},
   "outputs": [
    {
     "name": "stdout",
     "output_type": "stream",
     "text": [
      "228.5\n",
      "228.5\n"
     ]
    }
   ],
   "source": [
    "# Lesson 7\n",
    "# Task 6\n",
    "import numpy\n",
    "\n",
    "a = numpy.array([1, 5, 0])\n",
    "b = numpy.array([2, 8, 7])\n",
    "c = numpy.array([7, 1.5, 3])\n",
    "v = numpy.cross(a, b)\n",
    "print(numpy.inner(v, c))\n",
    "w = numpy.cross(b, c)\n",
    "print(numpy.inner(w, a))"
   ]
  },
  {
   "cell_type": "code",
   "execution_count": null,
   "id": "befe3dd5-217e-40b2-a302-f3c4d4bbfa3a",
   "metadata": {},
   "outputs": [],
   "source": []
  }
 ],
 "metadata": {
  "kernelspec": {
   "display_name": "Python 3 (ipykernel)",
   "language": "python",
   "name": "python3"
  },
  "language_info": {
   "codemirror_mode": {
    "name": "ipython",
    "version": 3
   },
   "file_extension": ".py",
   "mimetype": "text/x-python",
   "name": "python",
   "nbconvert_exporter": "python",
   "pygments_lexer": "ipython3",
   "version": "3.10.0"
  }
 },
 "nbformat": 4,
 "nbformat_minor": 5
}
